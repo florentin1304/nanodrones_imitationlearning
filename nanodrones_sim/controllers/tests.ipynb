{
 "cells": [
  {
   "cell_type": "code",
   "execution_count": 44,
   "metadata": {},
   "outputs": [
    {
     "name": "stdout",
     "output_type": "stream",
     "text": [
      "0 => 1.0\n",
      "1 => 0.75\n",
      "2 => 0.5625\n",
      "3 => 0.421875\n",
      "4 => 0.31640625\n",
      "5 => 0.2373046875\n",
      "6 => 0.177978515625\n",
      "7 => 0.13348388671875\n",
      "8 => 0.1001129150390625\n",
      "9 => 0.07508468627929688\n",
      "10 => 0.056313514709472656\n",
      "11 => 0.04223513603210449\n",
      "12 => 0.03167635202407837\n",
      "13 => 0.023757264018058777\n",
      "14 => 0.017817948013544083\n",
      "15 => 0.013363461010158062\n",
      "16 => 0.010022595757618546\n",
      "17 => 0.00751694681821391\n",
      "18 => 0.005637710113660432\n",
      "19 => 0.004228282585245324\n"
     ]
    }
   ],
   "source": [
    "for i in range(20):\n",
    "    print(i,\"=>\",0.75**(i))"
   ]
  },
  {
   "cell_type": "markdown",
   "metadata": {},
   "source": []
  },
  {
   "cell_type": "code",
   "execution_count": 4,
   "metadata": {},
   "outputs": [
    {
     "name": "stdout",
     "output_type": "stream",
     "text": [
      "tensor(0.1429)\n",
      "tensor(0.5716)\n"
     ]
    }
   ],
   "source": [
    "import torch\n",
    "from torch import nn\n",
    "\n",
    "a = torch.rand(16,4)\n",
    "b = torch.rand(16,4)\n",
    "criterion = nn.MSELoss()\n",
    "criterion_nored = nn.MSELoss(reduction='none')\n",
    "print(criterion(a,b))\n",
    "print(criterion_nored(a,b).mean(axis=0).sum())"
   ]
  },
  {
   "cell_type": "code",
   "execution_count": 44,
   "metadata": {},
   "outputs": [
    {
     "name": "stdout",
     "output_type": "stream",
     "text": [
      "torch.Size([10, 32, 512])\n",
      "torch.Size([10, 32, 256])\n",
      "torch.Size([32, 512])\n",
      "torch.Size([32, 512])\n",
      "torch.Size([32, 512])\n",
      "torch.Size([32, 512])\n",
      "torch.Size([32, 512])\n",
      "torch.Size([32, 512])\n",
      "torch.Size([32, 512])\n",
      "torch.Size([32, 512])\n",
      "torch.Size([32, 512])\n",
      "torch.Size([32, 512])\n",
      "torch.Size([10, 31, 256])\n",
      "torch.Size([10, 256])\n"
     ]
    }
   ],
   "source": [
    "import torch\n",
    "from pytorch_tcn import TCN\n",
    "\n",
    "model = TCN(\n",
    "    num_inputs = 512,\n",
    "    num_channels = [1024,2048,1024,512,256],\n",
    "    kernel_size=2,\n",
    "    dilation_reset = 16,\n",
    "    input_shape='NLC',\n",
    ")\n",
    "\n",
    "# batch=10, ts=16, features=4\n",
    "b = torch.ones(size=(10, 32, 512))\n",
    "print(b.shape)\n",
    "res = model(b)\n",
    "print(res.shape)\n",
    "\n",
    "\n",
    "other = res[:, :-1, :]\n",
    "print(other.shape)\n",
    "last_ts = res[:, -1 , :]\n",
    "print(last_ts.shape)\n"
   ]
  },
  {
   "cell_type": "code",
   "execution_count": 40,
   "metadata": {},
   "outputs": [
    {
     "name": "stdout",
     "output_type": "stream",
     "text": [
      "tensor([[[ 3.,  4.,  5.],\n",
      "         [ 6.,  8., 10.],\n",
      "         [ 9., 12., 15.]],\n",
      "\n",
      "        [[18., 21., 24.],\n",
      "         [24., 28., 32.],\n",
      "         [30., 35., 40.]]], dtype=torch.float64, grad_fn=<StackBackward0>)\n",
      "(tensor([[0.0556, 0.0556, 0.0556],\n",
      "        [0.0556, 0.0556, 0.0556],\n",
      "        [0.0556, 0.0556, 0.0556]], dtype=torch.float64), tensor([[0.0556, 0.0556, 0.0556],\n",
      "        [0.0556, 0.0556, 0.0556],\n",
      "        [0.0556, 0.0556, 0.0556]], dtype=torch.float64))\n"
     ]
    }
   ],
   "source": [
    "a = torch.tensor([1,2,3],dtype=float, requires_grad=True)\n",
    "b = torch.tensor([3,4,5],dtype=float, requires_grad=True)\n",
    "c = torch.tensor([6,7,8],dtype=float, requires_grad=True)\n",
    "\n",
    "x = torch.matmul(a.reshape(-1,1), b.reshape(1,-1))\n",
    "y = torch.matmul(b.reshape(-1,1), c.reshape(1,-1))\n",
    "\n",
    "\n",
    "z = torch.stack([x,y], dim=0)\n",
    "print(z)\n",
    "\n",
    "print(torch.autograd.grad(z.mean(), (x,y)))"
   ]
  }
 ],
 "metadata": {
  "kernelspec": {
   "display_name": "Python 3",
   "language": "python",
   "name": "python3"
  },
  "language_info": {
   "codemirror_mode": {
    "name": "ipython",
    "version": 3
   },
   "file_extension": ".py",
   "mimetype": "text/x-python",
   "name": "python",
   "nbconvert_exporter": "python",
   "pygments_lexer": "ipython3",
   "version": "3.11.8"
  }
 },
 "nbformat": 4,
 "nbformat_minor": 2
}
