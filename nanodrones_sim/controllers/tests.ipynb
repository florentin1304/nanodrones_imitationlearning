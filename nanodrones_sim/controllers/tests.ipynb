{
 "cells": [
  {
   "cell_type": "code",
   "execution_count": 1,
   "metadata": {},
   "outputs": [
    {
     "name": "stdout",
     "output_type": "stream",
     "text": [
      "/home/florentin/Documents/webots_simulations/bitcraze_gatefollowing/controllers/gate_following_controller/recorder.py\n",
      "/home/florentin/Documents/webots_simulations/bitcraze_gatefollowing/controllers/gate_following_controller\n",
      "run_y24-m04-d04_h15-m32_hdbic\n"
     ]
    }
   ],
   "source": [
    "from gate_following_controller.recorder import Recorder\n",
    "\n",
    "r = Recorder({1:1})"
   ]
  },
  {
   "cell_type": "markdown",
   "metadata": {},
   "source": []
  }
 ],
 "metadata": {
  "kernelspec": {
   "display_name": "Python 3",
   "language": "python",
   "name": "python3"
  },
  "language_info": {
   "codemirror_mode": {
    "name": "ipython",
    "version": 3
   },
   "file_extension": ".py",
   "mimetype": "text/x-python",
   "name": "python",
   "nbconvert_exporter": "python",
   "pygments_lexer": "ipython3",
   "version": "3.11.8"
  }
 },
 "nbformat": 4,
 "nbformat_minor": 2
}
